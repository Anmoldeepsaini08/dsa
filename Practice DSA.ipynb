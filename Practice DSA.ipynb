{
 "cells": [
  {
   "cell_type": "code",
   "execution_count": 22,
   "id": "3a6ba52d",
   "metadata": {},
   "outputs": [],
   "source": [
    "# Linked List\n",
    "\n",
    "\n",
    "class Node:\n",
    "    \n",
    "    def __init__(self,data=None,next=None):\n",
    "        self.data = data\n",
    "        self.next = next\n",
    "    \n",
    "class Linked_list:\n",
    "    \n",
    "    def __init__(self):\n",
    "        self.head = None\n",
    "    \n",
    "    def insert_begining(self,data):\n",
    "        \n",
    "        self.head = Node(data,self.head)\n",
    "        \n",
    "    def print_list(self):\n",
    "        \n",
    "        if self.head == None:\n",
    "            print(\"Empty List\")\n",
    "            return\n",
    "        \n",
    "        itr = self.head\n",
    "        list_print = \"\"\n",
    "        while itr:\n",
    "            \n",
    "            list_print += str(itr.data)+\"->\"\n",
    "            itr = itr.next\n",
    "        print(list_print)   \n",
    "        \n",
    "    def at_end(self,data):\n",
    "        \n",
    "        if self.head == None:\n",
    "            self.head = Node(data,None)\n",
    "            return\n",
    "        \n",
    "        itr = self.head\n",
    "        \n",
    "        while itr.next:\n",
    "            itr = itr.next\n",
    "            \n",
    "        itr.next = Node(data,None)\n",
    "    \n",
    "    def length(self):\n",
    "        count =0\n",
    "        \n",
    "        itr = self.head\n",
    "        \n",
    "        while itr:\n",
    "            count +=1\n",
    "            itr = itr.next\n",
    "        return count\n",
    "    \n",
    "    def remove(self,index):\n",
    "        \n",
    "        if index < 0 or index >=self.length():\n",
    "            print(\"Invalid index\")\n",
    "            return\n",
    "            \n",
    "        if index == 0:\n",
    "            self.head = self.head.next\n",
    "            return\n",
    "        \n",
    "        itr = self.head\n",
    "        count =0\n",
    "        \n",
    "        while itr:\n",
    "            \n",
    "            if count == index -1:\n",
    "                itr.next = itr.next.next\n",
    "                break\n",
    "            itr = itr.next\n",
    "            count +=1\n",
    "    \n",
    "    def reverse(self):\n",
    "        \n",
    "        curr = self.head\n",
    "        prev = 0\n",
    "        \n",
    "        while curr:\n",
    "            temp = curr.next\n",
    "            curr.next = prev\n",
    "            \n",
    "            prev = curr\n",
    "            curr = temp\n",
    "        self.head = prev"
   ]
  },
  {
   "cell_type": "code",
   "execution_count": 24,
   "id": "9a6382a6",
   "metadata": {},
   "outputs": [
    {
     "name": "stdout",
     "output_type": "stream",
     "text": [
      "895->819->8->9->89->5->\n",
      "5->89->9->8->819->895->\n",
      "895->819->8->9->89->5->\n"
     ]
    }
   ],
   "source": [
    "li = Linked_list()\n",
    "li.insert_begining(5)\n",
    "li.insert_begining(89)\n",
    "li.insert_begining(9)\n",
    "li.insert_begining(8)\n",
    "li.insert_begining(819)\n",
    "li.insert_begining(895)\n",
    "li.print_list()\n",
    "\n",
    "li = Linked_list()\n",
    "li.at_end(5)\n",
    "li.at_end(89)\n",
    "li.at_end(9)\n",
    "li.at_end(8)\n",
    "li.at_end(819)\n",
    "li.at_end(895)\n",
    "li.print_list()\n",
    "\n",
    "li.length()\n",
    "\n",
    "li.reverse()\n",
    "li.print_list()"
   ]
  },
  {
   "cell_type": "code",
   "execution_count": 25,
   "id": "50e757bd",
   "metadata": {},
   "outputs": [],
   "source": [
    "# Bubble Sort\n",
    "\n",
    "def bubble_sort(arr):\n",
    "    \n",
    "    length = len(arr)\n",
    "    \n",
    "    for i in range(length-1):\n",
    "        for j in range(length-i-1):\n",
    "            if arr[j] > arr[j+1]:\n",
    "                arr[j],arr[j+1] = arr[j+1],arr[j]\n",
    "    return arr"
   ]
  },
  {
   "cell_type": "code",
   "execution_count": 26,
   "id": "20090fdb",
   "metadata": {},
   "outputs": [
    {
     "data": {
      "text/plain": [
       "[11, 12, 22, 25, 34, 64, 90]"
      ]
     },
     "execution_count": 26,
     "metadata": {},
     "output_type": "execute_result"
    }
   ],
   "source": [
    "bubble_sort([64, 34, 25, 12, 22, 11, 90])"
   ]
  },
  {
   "cell_type": "code",
   "execution_count": 27,
   "id": "28fc89af",
   "metadata": {},
   "outputs": [],
   "source": [
    "def insertion_sort(arr):\n",
    "    length = len(arr)\n",
    "    \n",
    "    for i in range(1,length):\n",
    "        key = arr[i]\n",
    "        \n",
    "        j = i-1\n",
    "        \n",
    "        while j >=0 and key < arr[j]:\n",
    "            \n",
    "            arr[j+1] = arr[j]\n",
    "            j-=1\n",
    "        arr[j+1] = key\n",
    "    return arr"
   ]
  },
  {
   "cell_type": "code",
   "execution_count": 28,
   "id": "f218f6f9",
   "metadata": {},
   "outputs": [
    {
     "data": {
      "text/plain": [
       "[11, 12, 22, 25, 34, 64, 90]"
      ]
     },
     "execution_count": 28,
     "metadata": {},
     "output_type": "execute_result"
    }
   ],
   "source": [
    "insertion_sort([64, 34, 25, 12, 22, 11, 90])"
   ]
  },
  {
   "cell_type": "code",
   "execution_count": 29,
   "id": "f7e88fa0",
   "metadata": {},
   "outputs": [],
   "source": [
    "def selection_sort(arr):\n",
    "    \n",
    "    length =  len(arr)\n",
    "    \n",
    "    for i in range(length):\n",
    "        mini_index = i\n",
    "        \n",
    "        for j in range(1,length):\n",
    "            if arr[mini_index] > arr[j]:\n",
    "                mini_index = j\n",
    "        arr[i],arr[mini_index] = arr[mini_index],arr[i]\n",
    "    return arr"
   ]
  },
  {
   "cell_type": "code",
   "execution_count": 30,
   "id": "896b1371",
   "metadata": {},
   "outputs": [
    {
     "data": {
      "text/plain": [
       "[11, 25, 34, 22, 64, 90, 12]"
      ]
     },
     "execution_count": 30,
     "metadata": {},
     "output_type": "execute_result"
    }
   ],
   "source": [
    "selection_sort([64, 34, 25, 12, 22, 11, 90])"
   ]
  },
  {
   "cell_type": "code",
   "execution_count": 40,
   "id": "d48ef8d7",
   "metadata": {},
   "outputs": [],
   "source": [
    "# Quicksort\n",
    "\n",
    "def partition(arr,l,h):\n",
    "    low,high = l,h\n",
    "    \n",
    "    if l != h and l<h:\n",
    "        \n",
    "        pivot = arr[l]\n",
    "        \n",
    "        low +=1\n",
    "        \n",
    "        while low <= high:\n",
    "            \n",
    "            if arr[low] > pivot and arr[high] < pivot:\n",
    "                arr[low],arr[high] = arr[high],arr[low]\n",
    "            \n",
    "            if not arr[low] > pivot:\n",
    "                low+=1\n",
    "            if not arr[high] < pivot:\n",
    "                high -=1\n",
    "        arr[high],arr[l] = arr[l],arr[high]\n",
    "        return high\n",
    "\n",
    "def quick_sort(arr,low,high):\n",
    "    \n",
    "    if low < high:\n",
    "        \n",
    "        pi = partition(arr,low,high)\n",
    "        \n",
    "        quick_sort(arr,low,pi-1)\n",
    "        \n",
    "        quick_sort(arr,pi+1,high)\n",
    "    return arr"
   ]
  },
  {
   "cell_type": "code",
   "execution_count": 41,
   "id": "919a3118",
   "metadata": {},
   "outputs": [
    {
     "name": "stdout",
     "output_type": "stream",
     "text": [
      "[11, 12, 22, 25, 34, 64, 90]\n"
     ]
    }
   ],
   "source": [
    "a = [64, 34, 25, 12, 22, 11, 90]\n",
    "r = quick_sort(a,0,len(a)-1)\n",
    "print(r)"
   ]
  },
  {
   "cell_type": "code",
   "execution_count": 42,
   "id": "6dc3a464",
   "metadata": {},
   "outputs": [],
   "source": [
    "# merge sort\n",
    "\n",
    "def merge_sort(arr):\n",
    "    \n",
    "    if len(arr) > 1:\n",
    "        \n",
    "        mid = len(arr) //2\n",
    "        \n",
    "        left_arr = arr[:mid]\n",
    "        \n",
    "        right_arr = arr[mid:]\n",
    "        \n",
    "        merge_sort(left_arr)\n",
    "        merge_sort(right_arr)\n",
    "        \n",
    "        i=j=k=0\n",
    "        \n",
    "        while i < len(left_arr) and j < len(right_arr):\n",
    "            \n",
    "            if left_arr[i] < right_arr[j]:\n",
    "                \n",
    "                arr[k] = left_arr[i]\n",
    "                i +=1\n",
    "            else:\n",
    "                arr[k] = right_arr[j]\n",
    "                \n",
    "                j +=1\n",
    "            k +=1\n",
    "            \n",
    "        \n",
    "        while i < len(left_arr):\n",
    "            arr[k] = left_arr[i]\n",
    "            i+=1\n",
    "            k+=1\n",
    "            \n",
    "        while j < len(right_arr):\n",
    "            arr[k] = right_arr[j]\n",
    "            j+=1\n",
    "            k+=1\n",
    "    return arr"
   ]
  },
  {
   "cell_type": "code",
   "execution_count": 43,
   "id": "153c89c9",
   "metadata": {},
   "outputs": [
    {
     "data": {
      "text/plain": [
       "[5, 6, 7, 11, 12, 13]"
      ]
     },
     "execution_count": 43,
     "metadata": {},
     "output_type": "execute_result"
    }
   ],
   "source": [
    "merge_sort([12, 11, 13, 5, 6, 7])"
   ]
  },
  {
   "cell_type": "code",
   "execution_count": 48,
   "id": "30b8c078",
   "metadata": {},
   "outputs": [],
   "source": [
    "# Binary search\n",
    "\n",
    "\n",
    "def binary(arr,l,h,key):\n",
    "    \n",
    "    if l <=h:\n",
    "        mid = (l+h) //2\n",
    "        \n",
    "        if arr[mid] == key:\n",
    "            return mid\n",
    "        \n",
    "        elif arr[mid] > key:\n",
    "            return binary(arr,l,mid-1,key)\n",
    "        \n",
    "        else:\n",
    "            return binary(arr,mid+1,h,key)\n",
    "    else:\n",
    "        return \"Not Found\""
   ]
  },
  {
   "cell_type": "code",
   "execution_count": 51,
   "id": "0745b125",
   "metadata": {},
   "outputs": [
    {
     "name": "stdout",
     "output_type": "stream",
     "text": [
      "[5, 6, 7, 11, 12, 13]\n"
     ]
    },
    {
     "data": {
      "text/plain": [
       "5"
      ]
     },
     "execution_count": 51,
     "metadata": {},
     "output_type": "execute_result"
    }
   ],
   "source": [
    "a = [12, 11, 13, 5, 6, 7]\n",
    "sort = merge_sort(a)\n",
    "print(sort)\n",
    "binary(a,0,len(a)-1,13)"
   ]
  },
  {
   "cell_type": "code",
   "execution_count": 52,
   "id": "0f3aa8b2",
   "metadata": {},
   "outputs": [],
   "source": [
    "#Graphs\n"
   ]
  },
  {
   "cell_type": "code",
   "execution_count": 63,
   "id": "7a824712",
   "metadata": {},
   "outputs": [],
   "source": [
    "# Bfs Travesal\n",
    "\n",
    "from collections import defaultdict\n",
    "\n",
    "class Bfs_travesal:\n",
    "    \n",
    "    def __init__(self):\n",
    "        self.graph = defaultdict(list)\n",
    "        \n",
    "    def addedge(self,u,v):\n",
    "        self.graph[u].append(v)\n",
    "    \n",
    "    def traversal(self):\n",
    "        \n",
    "        visited = [False] * (len(self.graph)+1)\n",
    "        \n",
    "        queue = []\n",
    "        queue.append(0)\n",
    "        \n",
    "        visited[0] = True\n",
    "        \n",
    "        while queue:\n",
    "            \n",
    "            s = queue.pop(0)\n",
    "            print(s,end = ' ')\n",
    "            \n",
    "            for i in self.graph[s]:\n",
    "                \n",
    "                if visited[i] == False:\n",
    "                    queue.append(i)\n",
    "                    visited[i] = True\n",
    "                "
   ]
  },
  {
   "cell_type": "code",
   "execution_count": 64,
   "id": "6b0138f2",
   "metadata": {},
   "outputs": [
    {
     "name": "stdout",
     "output_type": "stream",
     "text": [
      "0 1 2 3 "
     ]
    }
   ],
   "source": [
    "\n",
    "g = Bfs_travesal()\n",
    "g.addedge(0, 1)\n",
    "g.addedge(0, 2)\n",
    "g.addedge(1, 2)\n",
    "g.addedge(2, 0)\n",
    "g.addedge(2, 3)\n",
    "g.addedge(3, 3)\n",
    "\n",
    "\n",
    "g.traversal()\n"
   ]
  },
  {
   "cell_type": "code",
   "execution_count": 69,
   "id": "f2ac377e",
   "metadata": {},
   "outputs": [],
   "source": [
    "# bfs search\n",
    "\n",
    "from collections import defaultdict\n",
    "\n",
    "class bfs_search:\n",
    "    \n",
    "    def __init__(self):\n",
    "        self.graph = defaultdict(list)\n",
    "        \n",
    "    def addEdge(self,u,v):\n",
    "        \n",
    "        self.graph[u].append(v)\n",
    "        \n",
    "    def search(self,source,key):\n",
    "        \n",
    "        visited = [False]  * (len(self.graph)+1)\n",
    "        \n",
    "        queue = []\n",
    "        \n",
    "        queue.append(source)\n",
    "        \n",
    "        visited[source] = True\n",
    "        \n",
    "        while queue:\n",
    "             \n",
    "                s = queue.pop(0)\n",
    "                print(s,end=' ')\n",
    "                \n",
    "                for i in self.graph[s]:\n",
    "                    \n",
    "                    if i == key:\n",
    "                        print(i)\n",
    "                        return\n",
    "                    if visited[i] == False:\n",
    "                        queue.append(i)\n",
    "                        visited[i] = True\n",
    "                        "
   ]
  },
  {
   "cell_type": "code",
   "execution_count": 70,
   "id": "a9c912ac",
   "metadata": {},
   "outputs": [
    {
     "name": "stdout",
     "output_type": "stream",
     "text": [
      "2 0 5\n"
     ]
    }
   ],
   "source": [
    "g = bfs_search()\n",
    "g.addEdge(0, 1)\n",
    "g.addEdge(0, 2)\n",
    "g.addEdge(1, 2)\n",
    "g.addEdge(1, 3)\n",
    "g.addEdge(2, 0)\n",
    "g.addEdge(0, 5)\n",
    "#g.addEdge(2, 3)\n",
    "g.addEdge(3, 3)\n",
    "g.addEdge(3,5)\n",
    "\n",
    "\n",
    "g.search(2,5)\n"
   ]
  },
  {
   "cell_type": "code",
   "execution_count": 75,
   "id": "aa166562",
   "metadata": {},
   "outputs": [],
   "source": [
    "# dfs  travesal\n",
    "\n",
    "from collections import defaultdict\n",
    "\n",
    "class Dfs:\n",
    "    \n",
    "    def __init__(self):\n",
    "        self.graph = defaultdict(list)\n",
    "        \n",
    "    def add_edge(self,u,v):\n",
    "        self.graph[u].append(v)\n",
    "        \n",
    "    def dfs_trav(self,source,visited):\n",
    "        \n",
    "        visited[source] = True\n",
    "        print(source,end = ' ')\n",
    "        \n",
    "        for i in self.graph[source]:\n",
    "            if visited[i] == False:\n",
    "                self.dfs_trav(i,visited)\n",
    "        \n",
    "        \n",
    "    def dfs(self):\n",
    "        V = len(self.graph)\n",
    "        visited = [ False] * V\n",
    "        \n",
    "        for j in range(V):\n",
    "            if visited[j] == False:\n",
    "                self.dfs_trav(j,visited)"
   ]
  },
  {
   "cell_type": "code",
   "execution_count": 76,
   "id": "82f2bfd7",
   "metadata": {},
   "outputs": [
    {
     "name": "stdout",
     "output_type": "stream",
     "text": [
      "0 1 2 3 "
     ]
    }
   ],
   "source": [
    "g = Dfs()\n",
    "g.add_edge(0, 1)\n",
    "g.add_edge(0, 2)\n",
    "g.add_edge(1, 2)\n",
    "g.add_edge(2, 0)\n",
    "g.add_edge(2, 3)\n",
    "g.add_edge(3, 3)\n",
    " \n",
    "\n",
    "g.dfs() \n",
    "    "
   ]
  },
  {
   "cell_type": "code",
   "execution_count": 87,
   "id": "320fbf00",
   "metadata": {},
   "outputs": [],
   "source": [
    " # dfs search\n",
    "    \n",
    "from collections import defaultdict\n",
    "\n",
    "class dfs_search:\n",
    "    def __init__(self):\n",
    "        self.graph= defaultdict(list)\n",
    "    def add_edges(self,u,v):\n",
    "        \n",
    "        self.graph[u].append(v)\n",
    "        \n",
    "    def dfs_search(self,source,visited,dest,flag):\n",
    "        \n",
    "        visited[source] = True\n",
    "        \n",
    "        print(source,end = ' ')\n",
    "        \n",
    "        for i in self.graph[source]:\n",
    "            if i == dest:\n",
    "                print(i)\n",
    "                flag = True\n",
    "                return\n",
    "        \n",
    "            if visited[i] == False:\n",
    "                self.dfs_search(i,visited,dest,flag)\n",
    "    \n",
    "    def search(self,dest):\n",
    "        V = len(self.graph)\n",
    "        \n",
    "        visited = [False] * V\n",
    "        \n",
    "        flag = False\n",
    "        \n",
    "        for j in range(V):\n",
    "            if visited[j] == False and flag != True:\n",
    "                \n",
    "                self.dfs_search(j,visited,dest,flag)\n",
    "                print(\"End\")\n",
    "                print()\n",
    "                    \n",
    "        return"
   ]
  },
  {
   "cell_type": "code",
   "execution_count": 88,
   "id": "c9003921",
   "metadata": {},
   "outputs": [
    {
     "name": "stdout",
     "output_type": "stream",
     "text": [
      "0 1 2 3 End\n",
      "\n",
      "4 5\n",
      "End\n",
      "\n"
     ]
    }
   ],
   "source": [
    "g = dfs_search()\n",
    "\n",
    "g.add_edges(0, 1)\n",
    "g.add_edges(0, 2)\n",
    "g.add_edges(1, 2)\n",
    "g.add_edges(2, 0)\n",
    "g.add_edges(2, 3)\n",
    "g.add_edges(3, 3)\n",
    "#g.add_edges(3, 5) ##\n",
    "g.add_edges(4, 5)\n",
    "\n",
    "g.search(5)"
   ]
  },
  {
   "cell_type": "code",
   "execution_count": 89,
   "id": "db06089f",
   "metadata": {},
   "outputs": [],
   "source": [
    "# prims"
   ]
  },
  {
   "cell_type": "code",
   "execution_count": 90,
   "id": "cdd85ef0",
   "metadata": {},
   "outputs": [],
   "source": [
    "import sys\n",
    "\n",
    "class prims:\n",
    "    def __init__(self,vertices):\n",
    "        self.v = vertices\n",
    "        self.graph = [[0 for i in range(vertices)]for j in range(vertices)]\n",
    "        \n",
    "    def minikey(self,key,visited):\n",
    "        mini = sys.maxsize\n",
    "        \n",
    "        for i in range(self.v):\n",
    "            if key[i] < mini and visited[i] == False:\n",
    "                mini = key[i]\n",
    "                mini_index = i\n",
    "        return mini_index\n",
    "    \n",
    "    def algo(self):\n",
    "        \n",
    "        visited =  [False] * self.v \n",
    "        \n",
    "        parent= [None] * self.v\n",
    "        \n",
    "        keys = [sys.maxsize] * self.v\n",
    "        \n",
    "        visited[0] = True\n",
    "        \n",
    "        parent[0] = -1\n",
    "        \n",
    "        for _ in range(self.v):\n",
    "            \n",
    "            u  = minikey(keys,visited)\n",
    "            \n",
    "            visited[u] = True\n",
    "            \n",
    "            for v in range(self.v):\n",
    "                \n",
    "                if self.graph[u][v] > 0 and visited[v] == False and keys[v] > self.graph[u][v]:\n",
    "                    keys[v] = self.graph[u][v]\n",
    "                    parent[v] = u\n",
    "        return parent,keys"
   ]
  },
  {
   "cell_type": "code",
   "execution_count": 126,
   "id": "52cb9671",
   "metadata": {},
   "outputs": [],
   "source": [
    "# dijkstra\n",
    "import sys\n",
    "class dijkstra:\n",
    "    def __init__(self,vertices):\n",
    "        \n",
    "        self.v = vertices\n",
    "        \n",
    "        self.graph = [[0 for i in range(vertices)]for j in range(vertices)]\n",
    "        \n",
    "    def mini_distance(self,distance,visited):\n",
    "        \n",
    "        mini = sys.maxsize\n",
    "         \n",
    "        for j in range(self.v):\n",
    "            \n",
    "            if distance[j] < mini and visited[j] == False:\n",
    "                mini = distance[j]\n",
    "                mini_index = j\n",
    "                \n",
    "        return mini_index\n",
    "    \n",
    "    def dijk(self,source):\n",
    "        \n",
    "        visited = [False] * self.v\n",
    "        \n",
    "        distance = [sys.maxsize] * self.v\n",
    "        \n",
    "        distance[source] = 0\n",
    "        \n",
    "        for _ in range(self.v):\n",
    "            \n",
    "            u = self.mini_distance(distance,visited)\n",
    "            \n",
    "            visited[u] = True\n",
    "            \n",
    "            for v in range(self.v):\n",
    "                \n",
    "                if self.graph[u][v] > 0 and visited[v] == False and distance[v] > distance[u] + self.graph[u][v]:\n",
    "                    distance[v] = distance[u] + self.graph[u][v]\n",
    "        return distance"
   ]
  },
  {
   "cell_type": "code",
   "execution_count": 127,
   "id": "93a9e508",
   "metadata": {},
   "outputs": [
    {
     "data": {
      "text/plain": [
       "[0, 4, 12, 19, 21, 11, 9, 8, 14]"
      ]
     },
     "execution_count": 127,
     "metadata": {},
     "output_type": "execute_result"
    }
   ],
   "source": [
    "g = dijkstra(9)\n",
    "g.graph = [[0, 4, 0, 0, 0, 0, 0, 8, 0],\n",
    "        [4, 0, 8, 0, 0, 0, 0, 11, 0],\n",
    "        [0, 8, 0, 7, 0, 4, 0, 0, 2],\n",
    "        [0, 0, 7, 0, 9, 14, 0, 0, 0],\n",
    "        [0, 0, 0, 9, 0, 10, 0, 0, 0],\n",
    "        [0, 0, 4, 14, 10, 0, 2, 0, 0],\n",
    "        [0, 0, 0, 0, 0, 2, 0, 1, 6],\n",
    "        [8, 11, 0, 0, 0, 0, 1, 0, 7],\n",
    "        [0, 0, 2, 0, 0, 0, 6, 7, 0]];\n",
    "\n",
    "g.dijk(0)"
   ]
  },
  {
   "cell_type": "code",
   "execution_count": 128,
   "id": "c5f3c880",
   "metadata": {},
   "outputs": [],
   "source": [
    "class Ford:\n",
    "    def __init__(self,vertices):\n",
    "        \n",
    "        self.v = vertices\n",
    "        self.graph = []\n",
    "        \n",
    "    def addEdge(self,u,v,w):\n",
    "        self.graph.append([u,v,w])\n",
    "        \n",
    "    def bellman(self,source):\n",
    "        \n",
    "        distance = [float(\"Inf\")] * self.v\n",
    "        \n",
    "        distance[source] = 0\n",
    "        \n",
    "        for _ in range(self.v):\n",
    "            \n",
    "            for u,v,w in self.graph:\n",
    "                if distance[u] != float('Inf') and distance[v] > w + distance[u]:\n",
    "                    distance[v] = w+ distance[u]\n",
    "        \n",
    "        \n",
    "        for u,v,w in self.graph:\n",
    "                if distance[u] != float('Inf') and distance[v] > w + distance[u]:\n",
    "                    return -1\n",
    "                \n",
    "        return distance"
   ]
  },
  {
   "cell_type": "code",
   "execution_count": 129,
   "id": "3076185f",
   "metadata": {},
   "outputs": [
    {
     "name": "stdout",
     "output_type": "stream",
     "text": [
      "[0, -1, 2, -2, 1]\n"
     ]
    }
   ],
   "source": [
    "g = Ford(5)\n",
    "g.addEdge(0, 1, -1)\n",
    "g.addEdge(0, 2, 4)\n",
    "g.addEdge(1, 2, 3)\n",
    "g.addEdge(1, 3, 2)\n",
    "g.addEdge(1, 4, 2)\n",
    "g.addEdge(3, 2, 5)\n",
    "g.addEdge(3, 1, 1)\n",
    "g.addEdge(4, 3, -3)\n",
    "\n",
    "result = g.bellman(0)\n",
    "\n",
    "if result == -1:\n",
    "    print(\"Negative Cycle Present\")\n",
    "else:\n",
    "    print(result)"
   ]
  },
  {
   "cell_type": "code",
   "execution_count": 149,
   "id": "d9db64bb",
   "metadata": {},
   "outputs": [],
   "source": [
    "# linked list practice \n",
    "\n",
    "class Node:\n",
    "    def __init__(self,data= None , next_ = None):\n",
    "        \n",
    "        self.data = data\n",
    "        self.next = next_\n",
    "        \n",
    "    \n",
    "class Linked_list:\n",
    "    \n",
    "    def __init__(self):\n",
    "        self.head = None\n",
    "    \n",
    "    def at_begining(self,data):\n",
    "        self.head = Node(data,self.head)\n",
    "        \n",
    "    def print_(self):\n",
    "        \n",
    "        if self.head == None:\n",
    "            return \n",
    "        \n",
    "        itr = self.head\n",
    "        list_linked = ''\n",
    "        while itr:\n",
    "            list_linked += str(itr.data) +\"->\"\n",
    "            \n",
    "            itr = itr.next\n",
    "        \n",
    "        print(list_linked)\n",
    "            \n",
    "    def at_end(self,data):\n",
    "        if self.head == None:\n",
    "            self.head = Node(data,None)\n",
    "            return\n",
    "            \n",
    "        itr = self.head\n",
    "        \n",
    "        while itr.next:\n",
    "            itr = itr.next\n",
    "            \n",
    "        itr.next = Node(data,None)\n",
    "        \n",
    "    def length(self):\n",
    "        \n",
    "        count = 0\n",
    "        \n",
    "        itr = self.head\n",
    "        \n",
    "        while itr:\n",
    "            count +=1\n",
    "            itr = itr.next\n",
    "        return count\n",
    "    \n",
    "    def remove(self,index):\n",
    "        \n",
    "        # check index\n",
    "        \n",
    "        if index < 0 and index >= self.length():\n",
    "            print(\"Invalid index\")\n",
    "            \n",
    "        if index == 0:\n",
    "            self.head = self.head.next\n",
    "            return\n",
    "            \n",
    "        count = 0\n",
    "        \n",
    "        itr = self.head\n",
    "        \n",
    "        while itr:\n",
    "            \n",
    "            if count == index -1:\n",
    "                itr.next = itr.next.next\n",
    "                break\n",
    "            itr = itr.next\n",
    "            count+=1\n",
    "            \n",
    "    def reverse(self):\n",
    "        \n",
    "        curr = self.head\n",
    "        prev = None\n",
    "        \n",
    "        while curr:\n",
    "            temp = curr.next\n",
    "            curr.next = prev\n",
    "            \n",
    "            prev = curr\n",
    "            curr = temp\n",
    "        self.head = prev"
   ]
  },
  {
   "cell_type": "code",
   "execution_count": 150,
   "id": "78313629",
   "metadata": {},
   "outputs": [
    {
     "name": "stdout",
     "output_type": "stream",
     "text": [
      "89->5->\n",
      "90->77->\n",
      "77->\n",
      "77->90->700->\n",
      "700->90->77->\n"
     ]
    }
   ],
   "source": [
    "ll = Linked_list()\n",
    "ll.at_begining(5)\n",
    "ll.at_begining(89)\n",
    "ll.print_()\n",
    "\n",
    "ll =Linked_list()\n",
    "\n",
    "ll.at_end(90)\n",
    "ll.at_end(77)\n",
    "ll.print_()\n",
    "\n",
    "ll.remove(0)\n",
    "ll.print_()\n",
    "\n",
    "\n",
    "ll.at_end(90)\n",
    "ll.at_end(700)\n",
    "ll.print_()\n",
    "\n",
    "ll.reverse()\n",
    "ll.print_()"
   ]
  },
  {
   "cell_type": "code",
   "execution_count": 220,
   "id": "e3ccfe46",
   "metadata": {},
   "outputs": [],
   "source": [
    "# Tree\n",
    "\n",
    "\n",
    "class Node:\n",
    "    def __init__(self,data):\n",
    "        self.data = data\n",
    "        self.left = None\n",
    "        self.right= None\n",
    "        \n",
    "def insert(root,data):\n",
    "    \n",
    "    if root is None:\n",
    "        return Node(data)\n",
    "    \n",
    "    else:\n",
    "        \n",
    "        if root.data == data:\n",
    "            return root\n",
    "        \n",
    "        elif root.data > data:\n",
    "            root.left = insert(root.left,data)\n",
    "            \n",
    "        else:\n",
    "            root.right = insert(root.right,data)\n",
    "    return root    \n",
    "            \n",
    "def inorder(root):\n",
    "    if root:\n",
    "        \n",
    "        inorder(root.left)\n",
    "        print(root.data)\n",
    "        inorder(root.right)\n",
    "        \n",
    "def preorder(root):\n",
    "    \n",
    "    if root is None:\n",
    "        return \n",
    "    \n",
    "    stack = []\n",
    "    stack.append(root)\n",
    "    \n",
    "    while stack:\n",
    "        \n",
    "        curr = stack.pop()\n",
    "        \n",
    "        print(curr.data,end =' ')\n",
    "        \n",
    "        if curr.right:\n",
    "            stack.append(curr.right)\n",
    "            \n",
    "        if curr.left:\n",
    "            stack.append(curr.left)\n",
    "            \n",
    "def postorder(root):\n",
    "    if root:\n",
    "        postorder(root.left)\n",
    "        postorder(root.right)\n",
    "        print(root.data,end =' ')\n",
    "        \n",
    "        \n",
    "def level_order(root):\n",
    "    if root is None:\n",
    "        return\n",
    "    \n",
    "    else:\n",
    "        \n",
    "        queue = []\n",
    "        queue.append(root)\n",
    "        \n",
    "        while len(queue) >0:\n",
    "            \n",
    "            node = queue.pop(0)\n",
    "            \n",
    "            print(node.data,end = ' ')\n",
    "                \n",
    "            if node.left is not None:\n",
    "                queue.append(node.left)\n",
    "                \n",
    "            if node.right is not None:\n",
    "                queue.append(node.right)\n",
    "                \n",
    "       \n",
    "    \n"
   ]
  },
  {
   "cell_type": "code",
   "execution_count": 221,
   "id": "5f2242f6",
   "metadata": {},
   "outputs": [],
   "source": [
    "r = Node(50)\n",
    "r = insert(r, 30)\n",
    "r = insert(r, 20)\n",
    "r = insert(r, 40)\n",
    "r = insert(r, 70)\n",
    "r = insert(r, 60)\n",
    "r = insert(r, 80)"
   ]
  },
  {
   "cell_type": "code",
   "execution_count": 222,
   "id": "a26d46bd",
   "metadata": {},
   "outputs": [
    {
     "name": "stdout",
     "output_type": "stream",
     "text": [
      "20\n",
      "30\n",
      "40\n",
      "50\n",
      "60\n",
      "70\n",
      "80\n"
     ]
    }
   ],
   "source": [
    "inorder(r)"
   ]
  },
  {
   "cell_type": "code",
   "execution_count": 223,
   "id": "3695e4f2",
   "metadata": {},
   "outputs": [
    {
     "name": "stdout",
     "output_type": "stream",
     "text": [
      "50 30 20 40 70 60 80 "
     ]
    }
   ],
   "source": [
    "preorder(r)"
   ]
  },
  {
   "cell_type": "code",
   "execution_count": 224,
   "id": "26156350",
   "metadata": {},
   "outputs": [
    {
     "name": "stdout",
     "output_type": "stream",
     "text": [
      "20 40 30 60 80 70 50 "
     ]
    }
   ],
   "source": [
    "postorder(r)"
   ]
  },
  {
   "cell_type": "code",
   "execution_count": 225,
   "id": "256988b1",
   "metadata": {},
   "outputs": [
    {
     "name": "stdout",
     "output_type": "stream",
     "text": [
      "50 30 70 20 40 60 80 "
     ]
    }
   ],
   "source": [
    "level_order(r)"
   ]
  },
  {
   "cell_type": "code",
   "execution_count": null,
   "id": "65020e12",
   "metadata": {},
   "outputs": [],
   "source": []
  },
  {
   "cell_type": "code",
   "execution_count": null,
   "id": "cb05e36d",
   "metadata": {},
   "outputs": [],
   "source": []
  },
  {
   "cell_type": "code",
   "execution_count": null,
   "id": "d959a6f3",
   "metadata": {},
   "outputs": [],
   "source": []
  },
  {
   "cell_type": "code",
   "execution_count": null,
   "id": "81c9f564",
   "metadata": {},
   "outputs": [],
   "source": []
  },
  {
   "cell_type": "code",
   "execution_count": null,
   "id": "60a10f6b",
   "metadata": {},
   "outputs": [],
   "source": []
  },
  {
   "cell_type": "code",
   "execution_count": null,
   "id": "f794652d",
   "metadata": {},
   "outputs": [],
   "source": []
  },
  {
   "cell_type": "code",
   "execution_count": null,
   "id": "28cad681",
   "metadata": {},
   "outputs": [],
   "source": []
  },
  {
   "cell_type": "code",
   "execution_count": null,
   "id": "69c6dac0",
   "metadata": {},
   "outputs": [],
   "source": []
  },
  {
   "cell_type": "code",
   "execution_count": null,
   "id": "0392aa7e",
   "metadata": {},
   "outputs": [],
   "source": []
  },
  {
   "cell_type": "code",
   "execution_count": null,
   "id": "787ffa71",
   "metadata": {},
   "outputs": [],
   "source": []
  }
 ],
 "metadata": {
  "kernelspec": {
   "display_name": "Python 3 (ipykernel)",
   "language": "python",
   "name": "python3"
  },
  "language_info": {
   "codemirror_mode": {
    "name": "ipython",
    "version": 3
   },
   "file_extension": ".py",
   "mimetype": "text/x-python",
   "name": "python",
   "nbconvert_exporter": "python",
   "pygments_lexer": "ipython3",
   "version": "3.9.9"
  }
 },
 "nbformat": 4,
 "nbformat_minor": 5
}
